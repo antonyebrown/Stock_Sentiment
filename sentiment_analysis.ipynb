{
 "cells": [
  {
   "cell_type": "markdown",
   "metadata": {},
   "source": [
    "Code adapted from work by [Damian Boh](https://medium.datadriveninvestor.com/sentiment-analysis-of-stocks-from-financial-news-using-python-82ebdcefb638)."
   ]
  },
  {
   "cell_type": "code",
   "execution_count": 1,
   "metadata": {},
   "outputs": [],
   "source": [
    "from urllib.request import urlopen, Request\n",
    "from bs4 import BeautifulSoup\n",
    "import os\n",
    "import pandas as pd\n",
    "import matplotlib.pyplot as plt\n",
    "import re\n",
    "%matplotlib inline"
   ]
  },
  {
   "cell_type": "code",
   "execution_count": 3,
   "metadata": {},
   "outputs": [
    {
     "name": "stderr",
     "output_type": "stream",
     "text": [
      "[nltk_data] Downloading package vader_lexicon to\n",
      "[nltk_data]     C:\\Users\\anton\\AppData\\Roaming\\nltk_data...\n",
      "[nltk_data]   Package vader_lexicon is already up-to-date!\n"
     ]
    }
   ],
   "source": [
    "import nltk\n",
    "nltk.downloader.download('vader_lexicon')\n",
    "from nltk.sentiment.vader import SentimentIntensityAnalyzer"
   ]
  },
  {
   "cell_type": "code",
   "execution_count": 4,
   "metadata": {},
   "outputs": [],
   "source": [
    "finwiz_url = 'https://finviz.com/quote.ashx?t='\n",
    "news_tables = {}\n",
    "tickers = ['TSLA', 'PLTR', 'AMD'] #, 'JPM', 'UNH', 'TGT', 'WMT']\n",
    "for ticker in tickers:\n",
    "    url = finwiz_url + ticker\n",
    "    req = Request(url=url,headers={'User-Agent': 'Mozilla/5.0 (Windows NT 6.1; WOW64; rv:20.0) Gecko/20100101 Firefox/20.0'}) \n",
    "    response = urlopen(req)    \n",
    "    # Read the contents of the file into 'html'\n",
    "    html = BeautifulSoup(response)\n",
    "    # Find 'news-table' in the Soup and load it into 'news_table'\n",
    "    news_table = html.find(id='news-table')\n",
    "    # Add the table to our dictionary\n",
    "    news_tables[ticker] = news_table"
   ]
  },
  {
   "cell_type": "code",
   "execution_count": null,
   "metadata": {},
   "outputs": [
    {
     "name": "stdout",
     "output_type": "stream",
     "text": [
      "Cost of living: Eight top tips to save on online shopping\n",
      "Oct-02-22 07:01PM\n",
      "Will Amazon Be Worth More Than Apple by 2025?\n",
      "09:45AM\n",
      "Producer Bets Streamers Want the Next  Judge Judy, Not Game of Thrones\n",
      "08:00AM\n",
      "3 Spring-Loaded Stocks Ready to Soar When the Bear Market Ends\n",
      "06:45AM\n"
     ]
    }
   ],
   "source": [
    "# Read one single day of headlines for ‘AMZN’ \n",
    "amzn = news_tables['AMZN']\n",
    "# Get all the table rows tagged in HTML with <tr> into ‘amzn_tr’\n",
    "amzn_tr = amzn.findAll('tr')\n",
    "for i, table_row in enumerate(amzn_tr):\n",
    " # Read the text of the element ‘a’ into ‘link_text’\n",
    " a_text = table_row.a.text\n",
    " # Read the text of the element ‘td’ into ‘data_text’\n",
    " td_text = table_row.td.text\n",
    " # Print the contents of ‘link_text’ and ‘data_text’ \n",
    " print(a_text)\n",
    " print(td_text)\n",
    " # Exit after printing 4 rows of data\n",
    " if i == 3:\n",
    "    break"
   ]
  },
  {
   "cell_type": "code",
   "execution_count": null,
   "metadata": {},
   "outputs": [
    {
     "data": {
      "text/plain": [
       "[['TSLA',\n",
       "  'Oct-02-22',\n",
       "  '07:15PM',\n",
       "  \"Dow Jones Futures Rise As Bear Market Eyes Third Leg Down; Record Tesla Deliveries Fall Short Investor's Business Daily\"],\n",
       " ['TSLA',\n",
       "  'Oct-02-22',\n",
       "  '05:31PM',\n",
       "  'Tesla Warns About New Challenges Despite Record Deliveries TheStreet.com'],\n",
       " ['TSLA',\n",
       "  'Oct-02-22',\n",
       "  '04:44PM',\n",
       "  'Tesla reports record deliveries, but numbers are still shy of analysts targets MarketWatch'],\n",
       " ['TSLA',\n",
       "  'Oct-02-22',\n",
       "  '03:56PM',\n",
       "  'Tesla Deliveries Bounce Back to Record, Though Dented by Distribution Delays The Wall Street Journal'],\n",
       " ['TSLA',\n",
       "  'Oct-02-22',\n",
       "  '02:17PM',\n",
       "  'Tesla blames logistics problems after delivering fewer cars than forecast Financial Times'],\n",
       " ['TSLA', 'Oct-02-22', '01:05PM', '\\n01:05PM\\nLoading…\\n'],\n",
       " ['TSLA',\n",
       "  'Oct-02-22',\n",
       "  '01:05PM',\n",
       "  \"Tesla Stock Vs. BYD Stock: Tesla Deliveries Raise Demand Concerns; BYD Launches In Europe Investor's Business Daily\"],\n",
       " ['TSLA',\n",
       "  'Oct-02-22',\n",
       "  '12:51PM',\n",
       "  'Tesla Deliveries Set a Record. Shares Should Fall. Barrons.com'],\n",
       " ['TSLA',\n",
       "  'Oct-02-22',\n",
       "  '12:35PM',\n",
       "  \"UPDATE 5-Tesla's logistical challenges overshadow record deliveries Reuters\"],\n",
       " ['TSLA',\n",
       "  'Oct-02-22',\n",
       "  '12:33PM',\n",
       "  \"Tesla Deliveries Hit A Record But Miss Views Amid Demand Concerns Investor's Business Daily\"]]"
      ]
     },
     "execution_count": 51,
     "metadata": {},
     "output_type": "execute_result"
    }
   ],
   "source": [
    "parsed_news = []\n",
    "\n",
    "# Iterate through the news\n",
    "for file_name, news_table in news_tables.items():\n",
    "    # Iterate through all tr tags in 'news_table'\n",
    "    for x in news_table.findAll('tr'):\n",
    "        # read the text from each tr tag into text\n",
    "        # get text from a only\n",
    "        text = x.get_text()\n",
    "        # split text in the td tag into a list \n",
    "        date_scrape = x.td.text.split()\n",
    "        # if the length of 'date_scrape' is 1, load 'time' as the only element\n",
    "        text = re.sub('^(.*(AM|PM))', \"\", text)\n",
    "        #re.sub('^(.*Updated: )',\"\", date_div)\n",
    "\n",
    "        if len(date_scrape) == 1:\n",
    "            time = date_scrape[0]\n",
    "            \n",
    "        # else load 'date' as the 1st element and 'time' as the second    \n",
    "        else:\n",
    "            date = date_scrape[0]\n",
    "            time = date_scrape[1]\n",
    "        # Extract the ticker from the file name, get the string up to the 1st '_'  \n",
    "        ticker = file_name.split('_')[0]\n",
    "        \n",
    "        # Append ticker, date, time and headline as a list to the 'parsed_news' list\n",
    "        parsed_news.append([ticker, date, time, text])\n",
    "        \n",
    "parsed_news[:10] # print first 10 rows of news"
   ]
  },
  {
   "cell_type": "code",
   "execution_count": null,
   "metadata": {},
   "outputs": [
    {
     "data": {
      "text/html": [
       "<div>\n",
       "<style scoped>\n",
       "    .dataframe tbody tr th:only-of-type {\n",
       "        vertical-align: middle;\n",
       "    }\n",
       "\n",
       "    .dataframe tbody tr th {\n",
       "        vertical-align: top;\n",
       "    }\n",
       "\n",
       "    .dataframe thead th {\n",
       "        text-align: right;\n",
       "    }\n",
       "</style>\n",
       "<table border=\"1\" class=\"dataframe\">\n",
       "  <thead>\n",
       "    <tr style=\"text-align: right;\">\n",
       "      <th></th>\n",
       "      <th>ticker</th>\n",
       "      <th>date</th>\n",
       "      <th>time</th>\n",
       "      <th>headline</th>\n",
       "      <th>neg</th>\n",
       "      <th>neu</th>\n",
       "      <th>pos</th>\n",
       "      <th>compound</th>\n",
       "    </tr>\n",
       "  </thead>\n",
       "  <tbody>\n",
       "    <tr>\n",
       "      <th>0</th>\n",
       "      <td>TSLA</td>\n",
       "      <td>2022-10-02</td>\n",
       "      <td>07:15PM</td>\n",
       "      <td>Dow Jones Futures Rise As Bear Market Eyes Thi...</td>\n",
       "      <td>0.000</td>\n",
       "      <td>1.000</td>\n",
       "      <td>0.000</td>\n",
       "      <td>0.0000</td>\n",
       "    </tr>\n",
       "    <tr>\n",
       "      <th>1</th>\n",
       "      <td>TSLA</td>\n",
       "      <td>2022-10-02</td>\n",
       "      <td>05:31PM</td>\n",
       "      <td>Tesla Warns About New Challenges Despite Recor...</td>\n",
       "      <td>0.144</td>\n",
       "      <td>0.722</td>\n",
       "      <td>0.134</td>\n",
       "      <td>-0.0258</td>\n",
       "    </tr>\n",
       "    <tr>\n",
       "      <th>2</th>\n",
       "      <td>TSLA</td>\n",
       "      <td>2022-10-02</td>\n",
       "      <td>04:44PM</td>\n",
       "      <td>Tesla reports record deliveries, but numbers a...</td>\n",
       "      <td>0.172</td>\n",
       "      <td>0.828</td>\n",
       "      <td>0.000</td>\n",
       "      <td>-0.3612</td>\n",
       "    </tr>\n",
       "    <tr>\n",
       "      <th>3</th>\n",
       "      <td>TSLA</td>\n",
       "      <td>2022-10-02</td>\n",
       "      <td>03:56PM</td>\n",
       "      <td>Tesla Deliveries Bounce Back to Record, Though...</td>\n",
       "      <td>0.000</td>\n",
       "      <td>1.000</td>\n",
       "      <td>0.000</td>\n",
       "      <td>0.0000</td>\n",
       "    </tr>\n",
       "    <tr>\n",
       "      <th>4</th>\n",
       "      <td>TSLA</td>\n",
       "      <td>2022-10-02</td>\n",
       "      <td>02:17PM</td>\n",
       "      <td>Tesla blames logistics problems after deliveri...</td>\n",
       "      <td>0.351</td>\n",
       "      <td>0.649</td>\n",
       "      <td>0.000</td>\n",
       "      <td>-0.6597</td>\n",
       "    </tr>\n",
       "  </tbody>\n",
       "</table>\n",
       "</div>"
      ],
      "text/plain": [
       "  ticker        date     time  \\\n",
       "0   TSLA  2022-10-02  07:15PM   \n",
       "1   TSLA  2022-10-02  05:31PM   \n",
       "2   TSLA  2022-10-02  04:44PM   \n",
       "3   TSLA  2022-10-02  03:56PM   \n",
       "4   TSLA  2022-10-02  02:17PM   \n",
       "\n",
       "                                            headline    neg    neu    pos  \\\n",
       "0  Dow Jones Futures Rise As Bear Market Eyes Thi...  0.000  1.000  0.000   \n",
       "1  Tesla Warns About New Challenges Despite Recor...  0.144  0.722  0.134   \n",
       "2  Tesla reports record deliveries, but numbers a...  0.172  0.828  0.000   \n",
       "3  Tesla Deliveries Bounce Back to Record, Though...  0.000  1.000  0.000   \n",
       "4  Tesla blames logistics problems after deliveri...  0.351  0.649  0.000   \n",
       "\n",
       "   compound  \n",
       "0    0.0000  \n",
       "1   -0.0258  \n",
       "2   -0.3612  \n",
       "3    0.0000  \n",
       "4   -0.6597  "
      ]
     },
     "execution_count": 52,
     "metadata": {},
     "output_type": "execute_result"
    }
   ],
   "source": [
    "# Instantiate the sentiment intensity analyzer\n",
    "vader = SentimentIntensityAnalyzer()\n",
    "# Set column names\n",
    "columns = ['ticker', 'date', 'time', 'headline']\n",
    "# Convert the parsed_news list into a DataFrame called 'parsed_and_scored_news'\n",
    "parsed_and_scored_news = pd.DataFrame(parsed_news, columns=columns)\n",
    "# Iterate through the headlines and get the polarity scores using vader\n",
    "scores = parsed_and_scored_news['headline'].apply(vader.polarity_scores).tolist()\n",
    "# Convert the 'scores' list of dicts into a DataFrame\n",
    "scores_df = pd.DataFrame(scores)\n",
    "# Join the DataFrames of the news and the list of dicts\n",
    "parsed_and_scored_news = parsed_and_scored_news.join(scores_df, rsuffix='_right')\n",
    "# Convert the date column from string to datetime\n",
    "parsed_and_scored_news['date'] = pd.to_datetime(parsed_and_scored_news.date).dt.date\n",
    "parsed_and_scored_news.head()"
   ]
  },
  {
   "cell_type": "code",
   "execution_count": null,
   "metadata": {},
   "outputs": [
    {
     "data": {
      "image/png": "[encoded data removed]",
      "text/plain": [
       "<Figure size 1440x864 with 1 Axes>"
      ]
     },
     "metadata": {
      "needs_background": "light"
     },
     "output_type": "display_data"
    }
   ],
   "source": [
    "plt.rcParams['figure.figsize'] = [20, 12]\n",
    "# Group by date and ticker columns from scored_news and calculate the mean\n",
    "mean_scores = parsed_and_scored_news.groupby(['ticker','date']).mean()\n",
    "# Unstack the column ticker\n",
    "mean_scores = mean_scores.unstack()\n",
    "# Get the cross-section of compound in the 'columns' axis\n",
    "mean_scores = mean_scores.xs('compound', axis=\"columns\").transpose()\n",
    "# Plot a bar chart with pandas\n",
    "mean_scores.plot(kind = 'bar')\n",
    "plt.grid()"
   ]
  },
  {
   "cell_type": "code",
   "execution_count": null,
   "metadata": {},
   "outputs": [
    {
     "data": {
      "text/plain": [
       "['Oct-02-22', '07:15PM']"
      ]
     },
     "execution_count": 48,
     "metadata": {},
     "output_type": "execute_result"
    }
   ],
   "source": []
  },
  {
   "cell_type": "code",
   "execution_count": null,
   "metadata": {},
   "outputs": [],
   "source": []
  }
 ],
 "metadata": {
  "kernelspec": {
   "display_name": "Python 3.9.13 ('base')",
   "language": "python",
   "name": "python3"
  },
  "language_info": {
   "codemirror_mode": {
    "name": "ipython",
    "version": 3
   },
   "file_extension": ".py",
   "mimetype": "text/x-python",
   "name": "python",
   "nbconvert_exporter": "python",
   "pygments_lexer": "ipython3",
   "version": "3.9.13"
  },
  "orig_nbformat": 4,
  "vscode": {
   "interpreter": {
    "hash": "dd9ca44ac3951bbfcf2559e21b415991d62f7385494400ab73cb3157df78d460"
   }
  }
 },
 "nbformat": 4,
 "nbformat_minor": 2
}
